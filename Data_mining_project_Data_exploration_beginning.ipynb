{
 "cells": [
  {
   "cell_type": "code",
   "execution_count": 1,
   "metadata": {},
   "outputs": [],
   "source": [
    "import pandas as pd\n",
    "import seaborn as sns\n",
    "import numpy as np\n",
    "import matplotlib.pyplot as plt"
   ]
  },
  {
   "cell_type": "markdown",
   "metadata": {},
   "source": [
    "Reading in data sets and looking over each. \n",
    " Observation 1: 2022 the.info looks different. The other two pieces of data have non null counts, while 2022 only has a single column.\n",
    "\n",
    "**purpose**\n",
    "\n",
    "The purpose could be for now. If the places with more places data have higher prevalances of disease etc. "
   ]
  },
  {
   "cell_type": "code",
   "execution_count": 2,
   "metadata": {},
   "outputs": [],
   "source": [
    "s2022 =pd.read_csv(\"C:/Users/amcfa/Downloads/PLACES__Local_Data_for_Better_Health__Place_Data_2022_release.csv\")"
   ]
  },
  {
   "cell_type": "code",
   "execution_count": 3,
   "metadata": {},
   "outputs": [
    {
     "data": {
      "text/plain": [
       "array([2020, 2019], dtype=int64)"
      ]
     },
     "execution_count": 3,
     "metadata": {},
     "output_type": "execute_result"
    }
   ],
   "source": [
    "s2022['Year'].unique()"
   ]
  },
  {
   "cell_type": "code",
   "execution_count": 4,
   "metadata": {},
   "outputs": [],
   "source": [
    "s2021 =pd.read_csv(\"C:/Users/amcfa/Downloads/PLACES__Local_Data_for_Better_Health__Place_Data_2021_release.csv\")"
   ]
  },
  {
   "cell_type": "code",
   "execution_count": 5,
   "metadata": {},
   "outputs": [
    {
     "data": {
      "text/plain": [
       "array([2019, 2018], dtype=int64)"
      ]
     },
     "execution_count": 5,
     "metadata": {},
     "output_type": "execute_result"
    }
   ],
   "source": [
    "s2021['Year'].unique()"
   ]
  },
  {
   "cell_type": "code",
   "execution_count": 6,
   "metadata": {},
   "outputs": [],
   "source": [
    "s2020 =pd.read_csv(\"C:/Users/amcfa/Downloads/PLACES__Local_Data_for_Better_Health__Place_Data_2020_release.csv\")"
   ]
  },
  {
   "cell_type": "code",
   "execution_count": 7,
   "metadata": {},
   "outputs": [
    {
     "data": {
      "text/plain": [
       "array([2017, 2018], dtype=int64)"
      ]
     },
     "execution_count": 7,
     "metadata": {},
     "output_type": "execute_result"
    }
   ],
   "source": [
    "s2020['Year'].unique()"
   ]
  },
  {
   "cell_type": "code",
   "execution_count": null,
   "metadata": {},
   "outputs": [],
   "source": [
    "a=len(s2020)"
   ]
  },
  {
   "cell_type": "code",
   "execution_count": null,
   "metadata": {},
   "outputs": [],
   "source": [
    "b=len(s2021)"
   ]
  },
  {
   "cell_type": "code",
   "execution_count": null,
   "metadata": {},
   "outputs": [],
   "source": [
    "c=len(s2022)"
   ]
  },
  {
   "cell_type": "code",
   "execution_count": null,
   "metadata": {},
   "outputs": [],
   "source": [
    "df1 = pd.Series({\"2020\":a,\"2021\":b,\"2022\":c})\n",
    "df2=pd.DataFrame(df1).reset_index()"
   ]
  },
  {
   "cell_type": "code",
   "execution_count": null,
   "metadata": {},
   "outputs": [],
   "source": [
    "df2"
   ]
  },
  {
   "cell_type": "code",
   "execution_count": null,
   "metadata": {},
   "outputs": [],
   "source": [
    "ax =sns.barplot(df2, x=\"index\", y=df2[0])\n",
    "ax.set(xlabel=\"years\",ylabel =\"Number of observations(In millions)\",title=\"Number of observations per year\")\n",
    "\n",
    "\n"
   ]
  },
  {
   "cell_type": "markdown",
   "metadata": {},
   "source": [
    "The newer dataset is much longer than the older data sets.According to explorations below, (The number of unique values increase could be due to simple population growth over time)\n",
    "\n",
    "Below is the info for each dataset and it appears that each dataset has the same number of columns (21)"
   ]
  },
  {
   "cell_type": "code",
   "execution_count": null,
   "metadata": {},
   "outputs": [],
   "source": [
    "s2020.info()"
   ]
  },
  {
   "cell_type": "code",
   "execution_count": null,
   "metadata": {},
   "outputs": [],
   "source": [
    "s2021.info()"
   ]
  },
  {
   "cell_type": "code",
   "execution_count": null,
   "metadata": {},
   "outputs": [],
   "source": [
    "s2022.info()"
   ]
  },
  {
   "cell_type": "code",
   "execution_count": null,
   "metadata": {},
   "outputs": [],
   "source": [
    "s2022['Year'].unique()"
   ]
  },
  {
   "cell_type": "markdown",
   "metadata": {},
   "source": [
    "More exploration, looking over the columns themselves to see what they contain. \\\n",
    "Year - The calendar year , split into two year intervals. but the data seems to take a few years to come out. 2020 is associated with 2017-2018, 2021 is 2018-2019, and 2022 is 2019-2020\\\n",
    "StateAbbr - The state abbrevation.\\\n",
    "StateDesc - The state name \\\n",
    "LocationName - specific area \\\n",
    "DataSource - Only one category is found which is BRFSS,Behavioral Risk Factor Surveillance System \\\n",
    "Category - longer text Description of a column appearing further down the list\n",
    "Measure- What is being measured-The name\n",
    "DataValueUnit -  A % value for each result \\\n",
    "Data_Value_Type - Split into two categories Crude prevalence, Age-adjusted prevalence\\\n",
    "Data-Value - A result \\\n",
    "Data_Footnote Symbol - To denote if a data value has a footnote\\\n",
    "Data_Value_Footnote - The relevant footnote\n",
    "Low_Confidence_Limit - The lower confidence limit\\\n",
    "High_Confidence_Limit -Upper confidence limit\\\n",
    "TotalPopulation- The total population of an area\\\n",
    "Geolocation -Geographical coordinates for an area\\\n",
    "LocationID- Unnique identifier given to each area\\\n",
    "CategoryID- 3 categories PREVENT, HLTHOUT, UNHBEH stand for prevention, Health outcomes and Health risk behaviors\n",
    "MeasureId- Name of measure taken, one of 28 categories.\n",
    "DataValueTypeID -CrdPrv, AgeAdjPrv\\\n",
    "Short_Question_Text- Seems to be survey Questions. \n"
   ]
  },
  {
   "cell_type": "code",
   "execution_count": 95,
   "metadata": {},
   "outputs": [],
   "source": [
    "unique1=(s2020.apply(lambda col: col.nunique())) # number of unique columns(The count)\n",
    "unique1_1=(s2020.apply(lambda col: col.unique()))  # number of unique categories (The categories themselves)\n",
    "unique2=(s2021.apply(lambda col: col.nunique()))\n",
    "unique2_1=(s2021.apply(lambda col: col.unique()))\n",
    "unique3=(s2022.apply(lambda col: col.nunique()))\n",
    "unique3_1=(s2022.apply(lambda col: col.unique()))"
   ]
  },
  {
   "cell_type": "code",
   "execution_count": null,
   "metadata": {},
   "outputs": [],
   "source": [
    "df=pd.DataFrame(unique1) # Making each part into a df, then concatenating each \n",
    "df1 = pd.DataFrame(unique2)\n",
    "df2 = pd.DataFrame(unique3)\n",
    "df3 = pd.concat([df,df1,df2], axis=1)"
   ]
  },
  {
   "cell_type": "code",
   "execution_count": null,
   "metadata": {},
   "outputs": [],
   "source": [
    "df3.columns = ['2017_2018', '2018_2019','2019_2020']"
   ]
  },
  {
   "cell_type": "markdown",
   "metadata": {},
   "source": [
    "Data Values seem to be very similiar between years. Minimal changes. The numbers of location names and measures and other metrics do not change much if at all all year to year."
   ]
  },
  {
   "cell_type": "code",
   "execution_count": null,
   "metadata": {},
   "outputs": [],
   "source": [
    "df3"
   ]
  },
  {
   "cell_type": "markdown",
   "metadata": {},
   "source": [
    "Looking to see if the locations are the same year to year. And they are."
   ]
  },
  {
   "cell_type": "code",
   "execution_count": null,
   "metadata": {},
   "outputs": [],
   "source": [
    "set1 = set(unique1_1['LocationName'])\n",
    "len(set1.intersection(unique2_1['LocationName']))\n",
    "len(set1.intersection(unique3_1['LocationName']))"
   ]
  },
  {
   "cell_type": "markdown",
   "metadata": {},
   "source": [
    "What is the distribution of locations per state?\n",
    "Looks like Pennsylvannia and Texas have the most.\\\n",
    "If this follows the 500 Cities project, these cities will be very large.\n"
   ]
  },
  {
   "cell_type": "code",
   "execution_count": null,
   "metadata": {},
   "outputs": [],
   "source": [
    "city_counts = s2020.groupby('StateAbbr')['LocationName'].count()\n",
    "city_counts = city_counts.sort_values(ascending=False)"
   ]
  },
  {
   "cell_type": "code",
   "execution_count": null,
   "metadata": {},
   "outputs": [],
   "source": [
    "city_counts"
   ]
  },
  {
   "cell_type": "code",
   "execution_count": null,
   "metadata": {},
   "outputs": [],
   "source": [
    "fig, ax = plt.subplots(figsize=(15,10))\n",
    "ax = sns.barplot(city_counts,palette=\"Spectral\")\n",
    "\n",
    "ax.set(xlabel=\"State\",ylabel =\"Number of locations \",title=\"Locations per State\")\n",
    "\n"
   ]
  },
  {
   "cell_type": "code",
   "execution_count": null,
   "metadata": {},
   "outputs": [],
   "source": []
  },
  {
   "cell_type": "markdown",
   "metadata": {},
   "source": [
    "More exploration: looking over populations column"
   ]
  },
  {
   "cell_type": "code",
   "execution_count": null,
   "metadata": {},
   "outputs": [],
   "source": []
  },
  {
   "cell_type": "code",
   "execution_count": null,
   "metadata": {},
   "outputs": [],
   "source": [
    "max(s2020['TotalPopulation'])"
   ]
  },
  {
   "cell_type": "code",
   "execution_count": null,
   "metadata": {},
   "outputs": [],
   "source": [
    "s2020.head()"
   ]
  },
  {
   "cell_type": "code",
   "execution_count": null,
   "metadata": {},
   "outputs": [],
   "source": [
    "s2020['StateDesc'].value_counts()"
   ]
  },
  {
   "cell_type": "code",
   "execution_count": null,
   "metadata": {},
   "outputs": [],
   "source": [
    "s2021['StateDesc'].value_counts()"
   ]
  },
  {
   "cell_type": "markdown",
   "metadata": {},
   "source": [
    "There are some null values in every data set. The reasoning for this was the populations of those areas were too small. I tried to drop them from the DF but it was very strangely difficult to do so.  "
   ]
  },
  {
   "cell_type": "code",
   "execution_count": null,
   "metadata": {},
   "outputs": [],
   "source": [
    "s2020.isnull().sum()"
   ]
  },
  {
   "cell_type": "code",
   "execution_count": null,
   "metadata": {},
   "outputs": [],
   "source": [
    "s2021.isnull().sum()"
   ]
  },
  {
   "cell_type": "code",
   "execution_count": 6,
   "metadata": {},
   "outputs": [
    {
     "data": {
      "text/plain": [
       "Year                                0\n",
       "StateAbbr                           0\n",
       "StateDesc                           0\n",
       "LocationName                        0\n",
       "DataSource                          0\n",
       "Category                            0\n",
       "Measure                             0\n",
       "Data_Value_Unit                     0\n",
       "Data_Value_Type                     0\n",
       "Data_Value                      31471\n",
       "Data_Value_Footnote_Symbol    1673031\n",
       "Data_Value_Footnote           1673031\n",
       "Low_Confidence_Limit            31471\n",
       "High_Confidence_Limit           31471\n",
       "TotalPopulation                     0\n",
       "Geolocation                         0\n",
       "LocationID                          0\n",
       "CategoryID                          0\n",
       "MeasureId                           0\n",
       "DataValueTypeID                     0\n",
       "Short_Question_Text                 0\n",
       "dtype: int64"
      ]
     },
     "execution_count": 6,
     "metadata": {},
     "output_type": "execute_result"
    }
   ],
   "source": [
    "s2022.isnull().sum()"
   ]
  },
  {
   "cell_type": "markdown",
   "metadata": {},
   "source": [
    "For now just filtering all of the NA values out until I know more about the data set."
   ]
  },
  {
   "cell_type": "code",
   "execution_count": 8,
   "metadata": {},
   "outputs": [],
   "source": [
    "s2022= s2022[s2022['Data_Value'].notna()]\n",
    "s2021= s2021[s2021['Data_Value'].notna()]\n",
    "s2020= s2020[s2020['Data_Value'].notna()]"
   ]
  },
  {
   "cell_type": "code",
   "execution_count": 11,
   "metadata": {},
   "outputs": [
    {
     "data": {
      "text/html": [
       "<div>\n",
       "<style scoped>\n",
       "    .dataframe tbody tr th:only-of-type {\n",
       "        vertical-align: middle;\n",
       "    }\n",
       "\n",
       "    .dataframe tbody tr th {\n",
       "        vertical-align: top;\n",
       "    }\n",
       "\n",
       "    .dataframe thead th {\n",
       "        text-align: right;\n",
       "    }\n",
       "</style>\n",
       "<table border=\"1\" class=\"dataframe\">\n",
       "  <thead>\n",
       "    <tr style=\"text-align: right;\">\n",
       "      <th></th>\n",
       "      <th>Year</th>\n",
       "      <th>StateAbbr</th>\n",
       "      <th>StateDesc</th>\n",
       "      <th>LocationName</th>\n",
       "      <th>DataSource</th>\n",
       "      <th>Category</th>\n",
       "      <th>Measure</th>\n",
       "      <th>Data_Value_Unit</th>\n",
       "      <th>Data_Value_Type</th>\n",
       "      <th>Data_Value</th>\n",
       "      <th>...</th>\n",
       "      <th>Data_Value_Footnote</th>\n",
       "      <th>Low_Confidence_Limit</th>\n",
       "      <th>High_Confidence_Limit</th>\n",
       "      <th>TotalPopulation</th>\n",
       "      <th>Geolocation</th>\n",
       "      <th>LocationID</th>\n",
       "      <th>CategoryID</th>\n",
       "      <th>MeasureId</th>\n",
       "      <th>DataValueTypeID</th>\n",
       "      <th>Short_Question_Text</th>\n",
       "    </tr>\n",
       "  </thead>\n",
       "  <tbody>\n",
       "    <tr>\n",
       "      <th>0</th>\n",
       "      <td>2019</td>\n",
       "      <td>ND</td>\n",
       "      <td>North Dakota</td>\n",
       "      <td>Milton</td>\n",
       "      <td>BRFSS</td>\n",
       "      <td>Health Outcomes</td>\n",
       "      <td>Current asthma among adults aged &gt;=18 years</td>\n",
       "      <td>%</td>\n",
       "      <td>Age-adjusted prevalence</td>\n",
       "      <td>8.7</td>\n",
       "      <td>...</td>\n",
       "      <td>NaN</td>\n",
       "      <td>8.2</td>\n",
       "      <td>9.3</td>\n",
       "      <td>61</td>\n",
       "      <td>POINT (-98.04596409 48.62600626)</td>\n",
       "      <td>3853020</td>\n",
       "      <td>HLTHOUT</td>\n",
       "      <td>CASTHMA</td>\n",
       "      <td>AgeAdjPrv</td>\n",
       "      <td>Current Asthma</td>\n",
       "    </tr>\n",
       "    <tr>\n",
       "      <th>1</th>\n",
       "      <td>2019</td>\n",
       "      <td>NC</td>\n",
       "      <td>North Carolina</td>\n",
       "      <td>Woodfin</td>\n",
       "      <td>BRFSS</td>\n",
       "      <td>Prevention</td>\n",
       "      <td>Taking medicine for high blood pressure contro...</td>\n",
       "      <td>%</td>\n",
       "      <td>Age-adjusted prevalence</td>\n",
       "      <td>57.0</td>\n",
       "      <td>...</td>\n",
       "      <td>NaN</td>\n",
       "      <td>56.3</td>\n",
       "      <td>57.6</td>\n",
       "      <td>6050</td>\n",
       "      <td>POINT (-82.59051774 35.64644135)</td>\n",
       "      <td>3775280</td>\n",
       "      <td>PREVENT</td>\n",
       "      <td>BPMED</td>\n",
       "      <td>AgeAdjPrv</td>\n",
       "      <td>Taking BP Medication</td>\n",
       "    </tr>\n",
       "    <tr>\n",
       "      <th>3</th>\n",
       "      <td>2019</td>\n",
       "      <td>NC</td>\n",
       "      <td>North Carolina</td>\n",
       "      <td>Weldon</td>\n",
       "      <td>BRFSS</td>\n",
       "      <td>Health Outcomes</td>\n",
       "      <td>Obesity among adults aged &gt;=18 years</td>\n",
       "      <td>%</td>\n",
       "      <td>Age-adjusted prevalence</td>\n",
       "      <td>47.3</td>\n",
       "      <td>...</td>\n",
       "      <td>NaN</td>\n",
       "      <td>45.7</td>\n",
       "      <td>48.8</td>\n",
       "      <td>1655</td>\n",
       "      <td>POINT (-77.61267037 36.42293214)</td>\n",
       "      <td>3771780</td>\n",
       "      <td>HLTHOUT</td>\n",
       "      <td>OBESITY</td>\n",
       "      <td>AgeAdjPrv</td>\n",
       "      <td>Obesity</td>\n",
       "    </tr>\n",
       "    <tr>\n",
       "      <th>4</th>\n",
       "      <td>2019</td>\n",
       "      <td>ND</td>\n",
       "      <td>North Dakota</td>\n",
       "      <td>Medora</td>\n",
       "      <td>BRFSS</td>\n",
       "      <td>Health Outcomes</td>\n",
       "      <td>Chronic kidney disease among adults aged &gt;=18 ...</td>\n",
       "      <td>%</td>\n",
       "      <td>Crude prevalence</td>\n",
       "      <td>2.7</td>\n",
       "      <td>...</td>\n",
       "      <td>NaN</td>\n",
       "      <td>2.5</td>\n",
       "      <td>3.0</td>\n",
       "      <td>112</td>\n",
       "      <td>POINT (-103.5250339 46.91278015)</td>\n",
       "      <td>3851900</td>\n",
       "      <td>HLTHOUT</td>\n",
       "      <td>KIDNEY</td>\n",
       "      <td>CrdPrv</td>\n",
       "      <td>Chronic Kidney Disease</td>\n",
       "    </tr>\n",
       "    <tr>\n",
       "      <th>5</th>\n",
       "      <td>2019</td>\n",
       "      <td>ND</td>\n",
       "      <td>North Dakota</td>\n",
       "      <td>Pettibone</td>\n",
       "      <td>BRFSS</td>\n",
       "      <td>Health Status</td>\n",
       "      <td>Fair or poor self-rated health status among ad...</td>\n",
       "      <td>%</td>\n",
       "      <td>Crude prevalence</td>\n",
       "      <td>20.9</td>\n",
       "      <td>...</td>\n",
       "      <td>NaN</td>\n",
       "      <td>17.6</td>\n",
       "      <td>24.4</td>\n",
       "      <td>70</td>\n",
       "      <td>POINT (-99.52046499 47.11951422)</td>\n",
       "      <td>3862060</td>\n",
       "      <td>HLTHSTAT</td>\n",
       "      <td>GHLTH</td>\n",
       "      <td>CrdPrv</td>\n",
       "      <td>General Health</td>\n",
       "    </tr>\n",
       "    <tr>\n",
       "      <th>...</th>\n",
       "      <td>...</td>\n",
       "      <td>...</td>\n",
       "      <td>...</td>\n",
       "      <td>...</td>\n",
       "      <td>...</td>\n",
       "      <td>...</td>\n",
       "      <td>...</td>\n",
       "      <td>...</td>\n",
       "      <td>...</td>\n",
       "      <td>...</td>\n",
       "      <td>...</td>\n",
       "      <td>...</td>\n",
       "      <td>...</td>\n",
       "      <td>...</td>\n",
       "      <td>...</td>\n",
       "      <td>...</td>\n",
       "      <td>...</td>\n",
       "      <td>...</td>\n",
       "      <td>...</td>\n",
       "      <td>...</td>\n",
       "      <td>...</td>\n",
       "    </tr>\n",
       "    <tr>\n",
       "      <th>1685021</th>\n",
       "      <td>2018</td>\n",
       "      <td>NC</td>\n",
       "      <td>North Carolina</td>\n",
       "      <td>Mills River</td>\n",
       "      <td>BRFSS</td>\n",
       "      <td>Prevention</td>\n",
       "      <td>Older adult women aged &gt;=65 years who are up t...</td>\n",
       "      <td>%</td>\n",
       "      <td>Age-adjusted prevalence</td>\n",
       "      <td>38.3</td>\n",
       "      <td>...</td>\n",
       "      <td>NaN</td>\n",
       "      <td>33.8</td>\n",
       "      <td>42.6</td>\n",
       "      <td>6788</td>\n",
       "      <td>POINT (-82.5854149 35.38529992)</td>\n",
       "      <td>3743260</td>\n",
       "      <td>PREVENT</td>\n",
       "      <td>COREW</td>\n",
       "      <td>AgeAdjPrv</td>\n",
       "      <td>Core preventive services for older women</td>\n",
       "    </tr>\n",
       "    <tr>\n",
       "      <th>1685022</th>\n",
       "      <td>2019</td>\n",
       "      <td>NC</td>\n",
       "      <td>North Carolina</td>\n",
       "      <td>Rex</td>\n",
       "      <td>BRFSS</td>\n",
       "      <td>Health Status</td>\n",
       "      <td>Fair or poor self-rated health status among ad...</td>\n",
       "      <td>%</td>\n",
       "      <td>Crude prevalence</td>\n",
       "      <td>31.0</td>\n",
       "      <td>...</td>\n",
       "      <td>NaN</td>\n",
       "      <td>26.4</td>\n",
       "      <td>35.6</td>\n",
       "      <td>55</td>\n",
       "      <td>POINT (-79.04685256 34.85079417)</td>\n",
       "      <td>3756100</td>\n",
       "      <td>HLTHSTAT</td>\n",
       "      <td>GHLTH</td>\n",
       "      <td>CrdPrv</td>\n",
       "      <td>General Health</td>\n",
       "    </tr>\n",
       "    <tr>\n",
       "      <th>1685023</th>\n",
       "      <td>2019</td>\n",
       "      <td>NC</td>\n",
       "      <td>North Carolina</td>\n",
       "      <td>Rennert</td>\n",
       "      <td>BRFSS</td>\n",
       "      <td>Prevention</td>\n",
       "      <td>Visits to doctor for routine checkup within th...</td>\n",
       "      <td>%</td>\n",
       "      <td>Age-adjusted prevalence</td>\n",
       "      <td>77.0</td>\n",
       "      <td>...</td>\n",
       "      <td>NaN</td>\n",
       "      <td>76.2</td>\n",
       "      <td>77.8</td>\n",
       "      <td>383</td>\n",
       "      <td>POINT (-79.07911559 34.81409289)</td>\n",
       "      <td>3755940</td>\n",
       "      <td>PREVENT</td>\n",
       "      <td>CHECKUP</td>\n",
       "      <td>AgeAdjPrv</td>\n",
       "      <td>Annual Checkup</td>\n",
       "    </tr>\n",
       "    <tr>\n",
       "      <th>1685024</th>\n",
       "      <td>2018</td>\n",
       "      <td>NC</td>\n",
       "      <td>North Carolina</td>\n",
       "      <td>Myrtle Grove</td>\n",
       "      <td>BRFSS</td>\n",
       "      <td>Prevention</td>\n",
       "      <td>Older adult women aged &gt;=65 years who are up t...</td>\n",
       "      <td>%</td>\n",
       "      <td>Crude prevalence</td>\n",
       "      <td>41.7</td>\n",
       "      <td>...</td>\n",
       "      <td>NaN</td>\n",
       "      <td>36.6</td>\n",
       "      <td>46.7</td>\n",
       "      <td>8875</td>\n",
       "      <td>POINT (-77.8841195 34.12375175)</td>\n",
       "      <td>3745840</td>\n",
       "      <td>PREVENT</td>\n",
       "      <td>COREW</td>\n",
       "      <td>CrdPrv</td>\n",
       "      <td>Core preventive services for older women</td>\n",
       "    </tr>\n",
       "    <tr>\n",
       "      <th>1685025</th>\n",
       "      <td>2019</td>\n",
       "      <td>NC</td>\n",
       "      <td>North Carolina</td>\n",
       "      <td>Plymouth</td>\n",
       "      <td>BRFSS</td>\n",
       "      <td>Health Outcomes</td>\n",
       "      <td>Chronic obstructive pulmonary disease among ad...</td>\n",
       "      <td>%</td>\n",
       "      <td>Crude prevalence</td>\n",
       "      <td>10.5</td>\n",
       "      <td>...</td>\n",
       "      <td>NaN</td>\n",
       "      <td>9.4</td>\n",
       "      <td>11.8</td>\n",
       "      <td>3878</td>\n",
       "      <td>POINT (-76.74806925 35.85994122)</td>\n",
       "      <td>3753040</td>\n",
       "      <td>HLTHOUT</td>\n",
       "      <td>COPD</td>\n",
       "      <td>CrdPrv</td>\n",
       "      <td>COPD</td>\n",
       "    </tr>\n",
       "  </tbody>\n",
       "</table>\n",
       "<p>1653627 rows × 21 columns</p>\n",
       "</div>"
      ],
      "text/plain": [
       "         Year StateAbbr       StateDesc  LocationName DataSource  \\\n",
       "0        2019        ND    North Dakota        Milton      BRFSS   \n",
       "1        2019        NC  North Carolina       Woodfin      BRFSS   \n",
       "3        2019        NC  North Carolina        Weldon      BRFSS   \n",
       "4        2019        ND    North Dakota        Medora      BRFSS   \n",
       "5        2019        ND    North Dakota     Pettibone      BRFSS   \n",
       "...       ...       ...             ...           ...        ...   \n",
       "1685021  2018        NC  North Carolina   Mills River      BRFSS   \n",
       "1685022  2019        NC  North Carolina           Rex      BRFSS   \n",
       "1685023  2019        NC  North Carolina       Rennert      BRFSS   \n",
       "1685024  2018        NC  North Carolina  Myrtle Grove      BRFSS   \n",
       "1685025  2019        NC  North Carolina      Plymouth      BRFSS   \n",
       "\n",
       "                Category                                            Measure  \\\n",
       "0        Health Outcomes        Current asthma among adults aged >=18 years   \n",
       "1             Prevention  Taking medicine for high blood pressure contro...   \n",
       "3        Health Outcomes               Obesity among adults aged >=18 years   \n",
       "4        Health Outcomes  Chronic kidney disease among adults aged >=18 ...   \n",
       "5          Health Status  Fair or poor self-rated health status among ad...   \n",
       "...                  ...                                                ...   \n",
       "1685021       Prevention  Older adult women aged >=65 years who are up t...   \n",
       "1685022    Health Status  Fair or poor self-rated health status among ad...   \n",
       "1685023       Prevention  Visits to doctor for routine checkup within th...   \n",
       "1685024       Prevention  Older adult women aged >=65 years who are up t...   \n",
       "1685025  Health Outcomes  Chronic obstructive pulmonary disease among ad...   \n",
       "\n",
       "        Data_Value_Unit          Data_Value_Type  Data_Value  ...  \\\n",
       "0                     %  Age-adjusted prevalence         8.7  ...   \n",
       "1                     %  Age-adjusted prevalence        57.0  ...   \n",
       "3                     %  Age-adjusted prevalence        47.3  ...   \n",
       "4                     %         Crude prevalence         2.7  ...   \n",
       "5                     %         Crude prevalence        20.9  ...   \n",
       "...                 ...                      ...         ...  ...   \n",
       "1685021               %  Age-adjusted prevalence        38.3  ...   \n",
       "1685022               %         Crude prevalence        31.0  ...   \n",
       "1685023               %  Age-adjusted prevalence        77.0  ...   \n",
       "1685024               %         Crude prevalence        41.7  ...   \n",
       "1685025               %         Crude prevalence        10.5  ...   \n",
       "\n",
       "        Data_Value_Footnote Low_Confidence_Limit  High_Confidence_Limit  \\\n",
       "0                       NaN                  8.2                    9.3   \n",
       "1                       NaN                 56.3                   57.6   \n",
       "3                       NaN                 45.7                   48.8   \n",
       "4                       NaN                  2.5                    3.0   \n",
       "5                       NaN                 17.6                   24.4   \n",
       "...                     ...                  ...                    ...   \n",
       "1685021                 NaN                 33.8                   42.6   \n",
       "1685022                 NaN                 26.4                   35.6   \n",
       "1685023                 NaN                 76.2                   77.8   \n",
       "1685024                 NaN                 36.6                   46.7   \n",
       "1685025                 NaN                  9.4                   11.8   \n",
       "\n",
       "         TotalPopulation                       Geolocation LocationID  \\\n",
       "0                     61  POINT (-98.04596409 48.62600626)    3853020   \n",
       "1                   6050  POINT (-82.59051774 35.64644135)    3775280   \n",
       "3                   1655  POINT (-77.61267037 36.42293214)    3771780   \n",
       "4                    112  POINT (-103.5250339 46.91278015)    3851900   \n",
       "5                     70  POINT (-99.52046499 47.11951422)    3862060   \n",
       "...                  ...                               ...        ...   \n",
       "1685021             6788   POINT (-82.5854149 35.38529992)    3743260   \n",
       "1685022               55  POINT (-79.04685256 34.85079417)    3756100   \n",
       "1685023              383  POINT (-79.07911559 34.81409289)    3755940   \n",
       "1685024             8875   POINT (-77.8841195 34.12375175)    3745840   \n",
       "1685025             3878  POINT (-76.74806925 35.85994122)    3753040   \n",
       "\n",
       "         CategoryID MeasureId DataValueTypeID  \\\n",
       "0           HLTHOUT   CASTHMA       AgeAdjPrv   \n",
       "1           PREVENT     BPMED       AgeAdjPrv   \n",
       "3           HLTHOUT   OBESITY       AgeAdjPrv   \n",
       "4           HLTHOUT    KIDNEY          CrdPrv   \n",
       "5          HLTHSTAT     GHLTH          CrdPrv   \n",
       "...             ...       ...             ...   \n",
       "1685021     PREVENT     COREW       AgeAdjPrv   \n",
       "1685022    HLTHSTAT     GHLTH          CrdPrv   \n",
       "1685023     PREVENT   CHECKUP       AgeAdjPrv   \n",
       "1685024     PREVENT     COREW          CrdPrv   \n",
       "1685025     HLTHOUT      COPD          CrdPrv   \n",
       "\n",
       "                              Short_Question_Text  \n",
       "0                                  Current Asthma  \n",
       "1                            Taking BP Medication  \n",
       "3                                         Obesity  \n",
       "4                          Chronic Kidney Disease  \n",
       "5                                  General Health  \n",
       "...                                           ...  \n",
       "1685021  Core preventive services for older women  \n",
       "1685022                            General Health  \n",
       "1685023                            Annual Checkup  \n",
       "1685024  Core preventive services for older women  \n",
       "1685025                                      COPD  \n",
       "\n",
       "[1653627 rows x 21 columns]"
      ]
     },
     "execution_count": 11,
     "metadata": {},
     "output_type": "execute_result"
    }
   ],
   "source": [
    "s2021"
   ]
  },
  {
   "cell_type": "markdown",
   "metadata": {},
   "source": [
    "Maybe a Good thing to do would be to kind of... scale the data sort of. \n",
    "There are 30 categories for measures. Among them, how are they divided. \n",
    "So is 5% cancer very high for all other cancer measures? Or is it very low. \n",
    "To normalize the data this way might maybe make it look a little less cluttered? \n"
   ]
  },
  {
   "cell_type": "code",
   "execution_count": 50,
   "metadata": {},
   "outputs": [],
   "source": [
    "# Getting measures by themselves\n",
    "sa=s2020['StateAbbr'].unique()"
   ]
  },
  {
   "cell_type": "code",
   "execution_count": 51,
   "metadata": {},
   "outputs": [],
   "source": [
    "n = len(sa)"
   ]
  },
  {
   "cell_type": "code",
   "execution_count": 52,
   "metadata": {},
   "outputs": [
    {
     "name": "stdout",
     "output_type": "stream",
     "text": [
      "['NC', 'OH', 'WI', 'ND', 'PA', 'OK', 'OR', 'SC', 'RI', 'TX', 'SD', 'TN', 'WY', 'VA', 'UT', 'VT', 'AL', 'WA', 'WV', 'CA', 'AK', 'AZ', 'AR', 'CT', 'CO', 'GA', 'DE', 'DC', 'FL', 'HI', 'ID', 'IL', 'IA', 'IN', 'ME', 'KS', 'KY', 'LA', 'MN', 'MD', 'MA', 'MI', 'MO', 'MS', 'NJ', 'MT', 'NE', 'NV', 'NH', 'NY', 'NM']\n"
     ]
    }
   ],
   "source": [
    "new_list_of_titles = []\n",
    "for i in sa:\n",
    "    if i not in new_list_of_titles:\n",
    "        new_list_of_titles.append(i)\n",
    "print(new_list_of_titles)\n",
    "    "
   ]
  },
  {
   "cell_type": "code",
   "execution_count": 63,
   "metadata": {},
   "outputs": [],
   "source": [
    "list_of_2020 = s2020"
   ]
  },
  {
   "cell_type": "code",
   "execution_count": 64,
   "metadata": {},
   "outputs": [],
   "source": [
    "grouped = list_of_2020.groupby(list_of_2020['StateAbbr'])"
   ]
  },
  {
   "cell_type": "code",
   "execution_count": 65,
   "metadata": {},
   "outputs": [],
   "source": [
    "#print(grouped.get_group(f'{i}=grouped.get_group{i}'))"
   ]
  },
  {
   "cell_type": "markdown",
   "metadata": {},
   "source": [
    "Making a sublist of DF like I have always wanted to do. Now I just type in the state name and voila, I have my dataframe printed nice and easy"
   ]
  },
  {
   "cell_type": "code",
   "execution_count": 66,
   "metadata": {},
   "outputs": [],
   "source": [
    "for i in new_list_of_titles:\n",
    "\texec(f'{i}=grouped.get_group(\"{i}\")')"
   ]
  },
  {
   "cell_type": "code",
   "execution_count": 67,
   "metadata": {},
   "outputs": [
    {
     "data": {
      "text/html": [
       "<div>\n",
       "<style scoped>\n",
       "    .dataframe tbody tr th:only-of-type {\n",
       "        vertical-align: middle;\n",
       "    }\n",
       "\n",
       "    .dataframe tbody tr th {\n",
       "        vertical-align: top;\n",
       "    }\n",
       "\n",
       "    .dataframe thead th {\n",
       "        text-align: right;\n",
       "    }\n",
       "</style>\n",
       "<table border=\"1\" class=\"dataframe\">\n",
       "  <thead>\n",
       "    <tr style=\"text-align: right;\">\n",
       "      <th></th>\n",
       "      <th>Year</th>\n",
       "      <th>StateAbbr</th>\n",
       "      <th>StateDesc</th>\n",
       "      <th>LocationName</th>\n",
       "      <th>DataSource</th>\n",
       "      <th>Category</th>\n",
       "      <th>Measure</th>\n",
       "      <th>Data_Value_Unit</th>\n",
       "      <th>Data_Value_Type</th>\n",
       "      <th>Data_Value</th>\n",
       "      <th>...</th>\n",
       "      <th>Data_Value_Footnote</th>\n",
       "      <th>Low_Confidence_Limit</th>\n",
       "      <th>High_Confidence_Limit</th>\n",
       "      <th>TotalPopulation</th>\n",
       "      <th>Geolocation</th>\n",
       "      <th>LocationID</th>\n",
       "      <th>CategoryID</th>\n",
       "      <th>MeasureId</th>\n",
       "      <th>DataValueTypeID</th>\n",
       "      <th>Short_Question_Text</th>\n",
       "    </tr>\n",
       "  </thead>\n",
       "  <tbody>\n",
       "    <tr>\n",
       "      <th>472880</th>\n",
       "      <td>2018</td>\n",
       "      <td>AL</td>\n",
       "      <td>Alabama</td>\n",
       "      <td>Opelika</td>\n",
       "      <td>BRFSS</td>\n",
       "      <td>Health Outcomes</td>\n",
       "      <td>Coronary heart disease among adults aged &gt;=18 ...</td>\n",
       "      <td>%</td>\n",
       "      <td>Age-adjusted prevalence</td>\n",
       "      <td>7.3</td>\n",
       "      <td>...</td>\n",
       "      <td>NaN</td>\n",
       "      <td>7.0</td>\n",
       "      <td>7.5</td>\n",
       "      <td>26495</td>\n",
       "      <td>POINT (-85.37652978 32.66105499)</td>\n",
       "      <td>157048</td>\n",
       "      <td>HLTHOUT</td>\n",
       "      <td>CHD</td>\n",
       "      <td>AgeAdjPrv</td>\n",
       "      <td>Coronary Heart Disease</td>\n",
       "    </tr>\n",
       "    <tr>\n",
       "      <th>478076</th>\n",
       "      <td>2018</td>\n",
       "      <td>AL</td>\n",
       "      <td>Alabama</td>\n",
       "      <td>Opelika</td>\n",
       "      <td>BRFSS</td>\n",
       "      <td>Prevention</td>\n",
       "      <td>Visits to doctor for routine checkup within th...</td>\n",
       "      <td>%</td>\n",
       "      <td>Crude prevalence</td>\n",
       "      <td>80.0</td>\n",
       "      <td>...</td>\n",
       "      <td>NaN</td>\n",
       "      <td>79.7</td>\n",
       "      <td>80.2</td>\n",
       "      <td>26495</td>\n",
       "      <td>POINT (-85.37652978 32.66105499)</td>\n",
       "      <td>157048</td>\n",
       "      <td>PREVENT</td>\n",
       "      <td>CHECKUP</td>\n",
       "      <td>CrdPrv</td>\n",
       "      <td>Annual Checkup</td>\n",
       "    </tr>\n",
       "    <tr>\n",
       "      <th>479822</th>\n",
       "      <td>2018</td>\n",
       "      <td>AL</td>\n",
       "      <td>Alabama</td>\n",
       "      <td>Opelika</td>\n",
       "      <td>BRFSS</td>\n",
       "      <td>Prevention</td>\n",
       "      <td>Visits to doctor for routine checkup within th...</td>\n",
       "      <td>%</td>\n",
       "      <td>Age-adjusted prevalence</td>\n",
       "      <td>79.8</td>\n",
       "      <td>...</td>\n",
       "      <td>NaN</td>\n",
       "      <td>79.5</td>\n",
       "      <td>80.1</td>\n",
       "      <td>26495</td>\n",
       "      <td>POINT (-85.37652978 32.66105499)</td>\n",
       "      <td>157048</td>\n",
       "      <td>PREVENT</td>\n",
       "      <td>CHECKUP</td>\n",
       "      <td>AgeAdjPrv</td>\n",
       "      <td>Annual Checkup</td>\n",
       "    </tr>\n",
       "    <tr>\n",
       "      <th>480424</th>\n",
       "      <td>2017</td>\n",
       "      <td>AL</td>\n",
       "      <td>Alabama</td>\n",
       "      <td>Opelika</td>\n",
       "      <td>BRFSS</td>\n",
       "      <td>Prevention</td>\n",
       "      <td>Cholesterol screening among adults aged &gt;=18 y...</td>\n",
       "      <td>%</td>\n",
       "      <td>Crude prevalence</td>\n",
       "      <td>85.9</td>\n",
       "      <td>...</td>\n",
       "      <td>NaN</td>\n",
       "      <td>85.5</td>\n",
       "      <td>86.5</td>\n",
       "      <td>26495</td>\n",
       "      <td>POINT (-85.37652978 32.66105499)</td>\n",
       "      <td>157048</td>\n",
       "      <td>PREVENT</td>\n",
       "      <td>CHOLSCREEN</td>\n",
       "      <td>CrdPrv</td>\n",
       "      <td>Cholesterol Screening</td>\n",
       "    </tr>\n",
       "    <tr>\n",
       "      <th>484184</th>\n",
       "      <td>2017</td>\n",
       "      <td>AL</td>\n",
       "      <td>Alabama</td>\n",
       "      <td>Opelika</td>\n",
       "      <td>BRFSS</td>\n",
       "      <td>Prevention</td>\n",
       "      <td>Cholesterol screening among adults aged &gt;=18 y...</td>\n",
       "      <td>%</td>\n",
       "      <td>Age-adjusted prevalence</td>\n",
       "      <td>85.7</td>\n",
       "      <td>...</td>\n",
       "      <td>NaN</td>\n",
       "      <td>85.2</td>\n",
       "      <td>86.3</td>\n",
       "      <td>26495</td>\n",
       "      <td>POINT (-85.37652978 32.66105499)</td>\n",
       "      <td>157048</td>\n",
       "      <td>PREVENT</td>\n",
       "      <td>CHOLSCREEN</td>\n",
       "      <td>AgeAdjPrv</td>\n",
       "      <td>Cholesterol Screening</td>\n",
       "    </tr>\n",
       "    <tr>\n",
       "      <th>...</th>\n",
       "      <td>...</td>\n",
       "      <td>...</td>\n",
       "      <td>...</td>\n",
       "      <td>...</td>\n",
       "      <td>...</td>\n",
       "      <td>...</td>\n",
       "      <td>...</td>\n",
       "      <td>...</td>\n",
       "      <td>...</td>\n",
       "      <td>...</td>\n",
       "      <td>...</td>\n",
       "      <td>...</td>\n",
       "      <td>...</td>\n",
       "      <td>...</td>\n",
       "      <td>...</td>\n",
       "      <td>...</td>\n",
       "      <td>...</td>\n",
       "      <td>...</td>\n",
       "      <td>...</td>\n",
       "      <td>...</td>\n",
       "      <td>...</td>\n",
       "    </tr>\n",
       "    <tr>\n",
       "      <th>575882</th>\n",
       "      <td>2018</td>\n",
       "      <td>AL</td>\n",
       "      <td>Alabama</td>\n",
       "      <td>York</td>\n",
       "      <td>BRFSS</td>\n",
       "      <td>Unhealthy Behaviors</td>\n",
       "      <td>Sleeping less than 7 hours among adults aged &gt;...</td>\n",
       "      <td>%</td>\n",
       "      <td>Age-adjusted prevalence</td>\n",
       "      <td>46.0</td>\n",
       "      <td>...</td>\n",
       "      <td>NaN</td>\n",
       "      <td>44.3</td>\n",
       "      <td>47.7</td>\n",
       "      <td>2538</td>\n",
       "      <td>POINT (-88.2916005 32.49194881)</td>\n",
       "      <td>184096</td>\n",
       "      <td>UNHBEH</td>\n",
       "      <td>SLEEP</td>\n",
       "      <td>AgeAdjPrv</td>\n",
       "      <td>Sleep &lt;7 hours</td>\n",
       "    </tr>\n",
       "    <tr>\n",
       "      <th>575883</th>\n",
       "      <td>2018</td>\n",
       "      <td>AL</td>\n",
       "      <td>Alabama</td>\n",
       "      <td>York</td>\n",
       "      <td>BRFSS</td>\n",
       "      <td>Health Outcomes</td>\n",
       "      <td>Stroke among adults aged &gt;=18 years</td>\n",
       "      <td>%</td>\n",
       "      <td>Crude prevalence</td>\n",
       "      <td>6.8</td>\n",
       "      <td>...</td>\n",
       "      <td>NaN</td>\n",
       "      <td>6.1</td>\n",
       "      <td>7.6</td>\n",
       "      <td>2538</td>\n",
       "      <td>POINT (-88.2916005 32.49194881)</td>\n",
       "      <td>184096</td>\n",
       "      <td>HLTHOUT</td>\n",
       "      <td>STROKE</td>\n",
       "      <td>CrdPrv</td>\n",
       "      <td>Stroke</td>\n",
       "    </tr>\n",
       "    <tr>\n",
       "      <th>575884</th>\n",
       "      <td>2018</td>\n",
       "      <td>AL</td>\n",
       "      <td>Alabama</td>\n",
       "      <td>York</td>\n",
       "      <td>BRFSS</td>\n",
       "      <td>Health Outcomes</td>\n",
       "      <td>Stroke among adults aged &gt;=18 years</td>\n",
       "      <td>%</td>\n",
       "      <td>Age-adjusted prevalence</td>\n",
       "      <td>5.6</td>\n",
       "      <td>...</td>\n",
       "      <td>NaN</td>\n",
       "      <td>5.1</td>\n",
       "      <td>6.2</td>\n",
       "      <td>2538</td>\n",
       "      <td>POINT (-88.2916005 32.49194881)</td>\n",
       "      <td>184096</td>\n",
       "      <td>HLTHOUT</td>\n",
       "      <td>STROKE</td>\n",
       "      <td>AgeAdjPrv</td>\n",
       "      <td>Stroke</td>\n",
       "    </tr>\n",
       "    <tr>\n",
       "      <th>575885</th>\n",
       "      <td>2018</td>\n",
       "      <td>AL</td>\n",
       "      <td>Alabama</td>\n",
       "      <td>York</td>\n",
       "      <td>BRFSS</td>\n",
       "      <td>Health Outcomes</td>\n",
       "      <td>All teeth lost among adults aged &gt;=65 years</td>\n",
       "      <td>%</td>\n",
       "      <td>Crude prevalence</td>\n",
       "      <td>27.0</td>\n",
       "      <td>...</td>\n",
       "      <td>NaN</td>\n",
       "      <td>19.6</td>\n",
       "      <td>34.4</td>\n",
       "      <td>2538</td>\n",
       "      <td>POINT (-88.2916005 32.49194881)</td>\n",
       "      <td>184096</td>\n",
       "      <td>HLTHOUT</td>\n",
       "      <td>TEETHLOST</td>\n",
       "      <td>CrdPrv</td>\n",
       "      <td>Teeth Loss</td>\n",
       "    </tr>\n",
       "    <tr>\n",
       "      <th>575886</th>\n",
       "      <td>2018</td>\n",
       "      <td>AL</td>\n",
       "      <td>Alabama</td>\n",
       "      <td>York</td>\n",
       "      <td>BRFSS</td>\n",
       "      <td>Health Outcomes</td>\n",
       "      <td>All teeth lost among adults aged &gt;=65 years</td>\n",
       "      <td>%</td>\n",
       "      <td>Age-adjusted prevalence</td>\n",
       "      <td>26.6</td>\n",
       "      <td>...</td>\n",
       "      <td>NaN</td>\n",
       "      <td>19.6</td>\n",
       "      <td>33.2</td>\n",
       "      <td>2538</td>\n",
       "      <td>POINT (-88.2916005 32.49194881)</td>\n",
       "      <td>184096</td>\n",
       "      <td>HLTHOUT</td>\n",
       "      <td>TEETHLOST</td>\n",
       "      <td>AgeAdjPrv</td>\n",
       "      <td>Teeth Loss</td>\n",
       "    </tr>\n",
       "  </tbody>\n",
       "</table>\n",
       "<p>32232 rows × 21 columns</p>\n",
       "</div>"
      ],
      "text/plain": [
       "        Year StateAbbr StateDesc LocationName DataSource             Category  \\\n",
       "472880  2018        AL   Alabama      Opelika      BRFSS      Health Outcomes   \n",
       "478076  2018        AL   Alabama      Opelika      BRFSS           Prevention   \n",
       "479822  2018        AL   Alabama      Opelika      BRFSS           Prevention   \n",
       "480424  2017        AL   Alabama      Opelika      BRFSS           Prevention   \n",
       "484184  2017        AL   Alabama      Opelika      BRFSS           Prevention   \n",
       "...      ...       ...       ...          ...        ...                  ...   \n",
       "575882  2018        AL   Alabama         York      BRFSS  Unhealthy Behaviors   \n",
       "575883  2018        AL   Alabama         York      BRFSS      Health Outcomes   \n",
       "575884  2018        AL   Alabama         York      BRFSS      Health Outcomes   \n",
       "575885  2018        AL   Alabama         York      BRFSS      Health Outcomes   \n",
       "575886  2018        AL   Alabama         York      BRFSS      Health Outcomes   \n",
       "\n",
       "                                                  Measure Data_Value_Unit  \\\n",
       "472880  Coronary heart disease among adults aged >=18 ...               %   \n",
       "478076  Visits to doctor for routine checkup within th...               %   \n",
       "479822  Visits to doctor for routine checkup within th...               %   \n",
       "480424  Cholesterol screening among adults aged >=18 y...               %   \n",
       "484184  Cholesterol screening among adults aged >=18 y...               %   \n",
       "...                                                   ...             ...   \n",
       "575882  Sleeping less than 7 hours among adults aged >...               %   \n",
       "575883                Stroke among adults aged >=18 years               %   \n",
       "575884                Stroke among adults aged >=18 years               %   \n",
       "575885        All teeth lost among adults aged >=65 years               %   \n",
       "575886        All teeth lost among adults aged >=65 years               %   \n",
       "\n",
       "                Data_Value_Type  Data_Value  ... Data_Value_Footnote  \\\n",
       "472880  Age-adjusted prevalence         7.3  ...                 NaN   \n",
       "478076         Crude prevalence        80.0  ...                 NaN   \n",
       "479822  Age-adjusted prevalence        79.8  ...                 NaN   \n",
       "480424         Crude prevalence        85.9  ...                 NaN   \n",
       "484184  Age-adjusted prevalence        85.7  ...                 NaN   \n",
       "...                         ...         ...  ...                 ...   \n",
       "575882  Age-adjusted prevalence        46.0  ...                 NaN   \n",
       "575883         Crude prevalence         6.8  ...                 NaN   \n",
       "575884  Age-adjusted prevalence         5.6  ...                 NaN   \n",
       "575885         Crude prevalence        27.0  ...                 NaN   \n",
       "575886  Age-adjusted prevalence        26.6  ...                 NaN   \n",
       "\n",
       "       Low_Confidence_Limit  High_Confidence_Limit  TotalPopulation  \\\n",
       "472880                  7.0                    7.5            26495   \n",
       "478076                 79.7                   80.2            26495   \n",
       "479822                 79.5                   80.1            26495   \n",
       "480424                 85.5                   86.5            26495   \n",
       "484184                 85.2                   86.3            26495   \n",
       "...                     ...                    ...              ...   \n",
       "575882                 44.3                   47.7             2538   \n",
       "575883                  6.1                    7.6             2538   \n",
       "575884                  5.1                    6.2             2538   \n",
       "575885                 19.6                   34.4             2538   \n",
       "575886                 19.6                   33.2             2538   \n",
       "\n",
       "                             Geolocation LocationID  CategoryID   MeasureId  \\\n",
       "472880  POINT (-85.37652978 32.66105499)     157048     HLTHOUT         CHD   \n",
       "478076  POINT (-85.37652978 32.66105499)     157048     PREVENT     CHECKUP   \n",
       "479822  POINT (-85.37652978 32.66105499)     157048     PREVENT     CHECKUP   \n",
       "480424  POINT (-85.37652978 32.66105499)     157048     PREVENT  CHOLSCREEN   \n",
       "484184  POINT (-85.37652978 32.66105499)     157048     PREVENT  CHOLSCREEN   \n",
       "...                                  ...        ...         ...         ...   \n",
       "575882   POINT (-88.2916005 32.49194881)     184096      UNHBEH       SLEEP   \n",
       "575883   POINT (-88.2916005 32.49194881)     184096     HLTHOUT      STROKE   \n",
       "575884   POINT (-88.2916005 32.49194881)     184096     HLTHOUT      STROKE   \n",
       "575885   POINT (-88.2916005 32.49194881)     184096     HLTHOUT   TEETHLOST   \n",
       "575886   POINT (-88.2916005 32.49194881)     184096     HLTHOUT   TEETHLOST   \n",
       "\n",
       "       DataValueTypeID     Short_Question_Text  \n",
       "472880       AgeAdjPrv  Coronary Heart Disease  \n",
       "478076          CrdPrv          Annual Checkup  \n",
       "479822       AgeAdjPrv          Annual Checkup  \n",
       "480424          CrdPrv   Cholesterol Screening  \n",
       "484184       AgeAdjPrv   Cholesterol Screening  \n",
       "...                ...                     ...  \n",
       "575882       AgeAdjPrv          Sleep <7 hours  \n",
       "575883          CrdPrv                  Stroke  \n",
       "575884       AgeAdjPrv                  Stroke  \n",
       "575885          CrdPrv              Teeth Loss  \n",
       "575886       AgeAdjPrv              Teeth Loss  \n",
       "\n",
       "[32232 rows x 21 columns]"
      ]
     },
     "execution_count": 67,
     "metadata": {},
     "output_type": "execute_result"
    }
   ],
   "source": [
    "AL"
   ]
  },
  {
   "cell_type": "code",
   "execution_count": 59,
   "metadata": {},
   "outputs": [
    {
     "name": "stdout",
     "output_type": "stream",
     "text": [
      "['NC', 'OH', 'WI', 'ND', 'PA', 'OK', 'OR', 'SC', 'RI', 'TX', 'SD', 'TN', 'WY', 'VA', 'UT', 'VT', 'AL', 'WA', 'WV', 'CA', 'AK', 'AZ', 'AR', 'CT', 'CO', 'GA', 'DE', 'DC', 'FL', 'HI', 'ID', 'IL', 'IA', 'IN', 'ME', 'KS', 'KY', 'LA', 'MN', 'MD', 'MA', 'MI', 'MO', 'MS', 'NJ', 'MT', 'NE', 'NV', 'NH', 'NY', 'NM']\n"
     ]
    }
   ],
   "source": [
    "print(new_list_of_titles)"
   ]
  },
  {
   "cell_type": "markdown",
   "metadata": {},
   "source": [
    "Okay so Plotting these values did not work as well as I would have liked. So I have to now further divide my datasets again. "
   ]
  },
  {
   "cell_type": "code",
   "execution_count": 94,
   "metadata": {},
   "outputs": [],
   "source": [
    "sb=AL['Measure'].unique()"
   ]
  },
  {
   "cell_type": "markdown",
   "metadata": {},
   "source": [
    "Creating a list of all of the measures"
   ]
  },
  {
   "cell_type": "code",
   "execution_count": 90,
   "metadata": {},
   "outputs": [
    {
     "name": "stdout",
     "output_type": "stream",
     "text": [
      "['Coronary heart disease among adults aged >=18 years', 'Visits to doctor for routine checkup within the past year among adults aged >=18 years', 'Cholesterol screening among adults aged >=18 years', 'Fecal occult blood test, sigmoidoscopy, or colonoscopy among adults aged 50-75 years', 'Chronic obstructive pulmonary disease among adults aged >=18 years', 'Older adult men aged >=65 years who are up to date on a core set of clinical preventive services: Flu shot past year, PPV shot ever, Colorectal cancer screening', 'Older adult women aged >=65 years who are up to date on a core set of clinical preventive services: Flu shot past year, PPV shot ever, Colorectal cancer screening, and Mammogram past 2 years', 'Current smoking among adults aged >=18 years', 'Visits to dentist or dental clinic among adults aged >=18 years', 'Diagnosed diabetes among adults aged >=18 years', 'High cholesterol among adults aged >=18 years who have been screened in the past 5 years', 'Chronic kidney disease among adults aged >=18 years', 'No leisure-time physical activity among adults aged >=18 years', 'Mammography use among women aged 50-74 years', 'Mental health not good for >=14 days among adults aged >=18 years', 'Obesity among adults aged >=18 years', 'Physical health not good for >=14 days among adults aged >=18 years', 'Sleeping less than 7 hours among adults aged >=18 years', 'Stroke among adults aged >=18 years', 'All teeth lost among adults aged >=65 years', 'Current lack of health insurance among adults aged 18-64 years', 'Arthritis among adults aged >=18 years', 'Binge drinking among adults aged >=18 years', 'High blood pressure among adults aged >=18 years', 'Taking medicine for high blood pressure control among adults aged >=18 years with high blood pressure', 'Cancer (excluding skin cancer) among adults aged >=18 years', 'Current asthma among adults aged >=18 years', 'Cervical cancer screening among adult women aged 21-65 years']\n"
     ]
    }
   ],
   "source": [
    "new_list_of_measures = []\n",
    "for i in sb:\n",
    "    if i not in new_list_of_measures:\n",
    "        new_list_of_measures.append(i)\n",
    "print(new_list_of_measures)"
   ]
  },
  {
   "cell_type": "markdown",
   "metadata": {},
   "source": [
    "Recreating Grouped Variable"
   ]
  },
  {
   "cell_type": "code",
   "execution_count": 91,
   "metadata": {},
   "outputs": [],
   "source": [
    "groupedAL = AL.groupby(AL['Measure'])"
   ]
  },
  {
   "cell_type": "code",
   "execution_count": 92,
   "metadata": {},
   "outputs": [
    {
     "name": "stdout",
     "output_type": "stream",
     "text": [
      "Coronary heart disease among adults aged >=18 years\n",
      "Visits to doctor for routine checkup within the past year among adults aged >=18 years\n",
      "Cholesterol screening among adults aged >=18 years\n",
      "Fecal occult blood test, sigmoidoscopy, or colonoscopy among adults aged 50-75 years\n",
      "Chronic obstructive pulmonary disease among adults aged >=18 years\n",
      "Older adult men aged >=65 years who are up to date on a core set of clinical preventive services: Flu shot past year, PPV shot ever, Colorectal cancer screening\n",
      "Older adult women aged >=65 years who are up to date on a core set of clinical preventive services: Flu shot past year, PPV shot ever, Colorectal cancer screening, and Mammogram past 2 years\n",
      "Current smoking among adults aged >=18 years\n",
      "Visits to dentist or dental clinic among adults aged >=18 years\n",
      "Diagnosed diabetes among adults aged >=18 years\n",
      "High cholesterol among adults aged >=18 years who have been screened in the past 5 years\n",
      "Chronic kidney disease among adults aged >=18 years\n",
      "No leisure-time physical activity among adults aged >=18 years\n",
      "Mammography use among women aged 50-74 years\n",
      "Mental health not good for >=14 days among adults aged >=18 years\n",
      "Obesity among adults aged >=18 years\n",
      "Physical health not good for >=14 days among adults aged >=18 years\n",
      "Sleeping less than 7 hours among adults aged >=18 years\n",
      "Stroke among adults aged >=18 years\n",
      "All teeth lost among adults aged >=65 years\n",
      "Current lack of health insurance among adults aged 18-64 years\n",
      "Arthritis among adults aged >=18 years\n",
      "Binge drinking among adults aged >=18 years\n",
      "High blood pressure among adults aged >=18 years\n",
      "Taking medicine for high blood pressure control among adults aged >=18 years with high blood pressure\n",
      "Cancer (excluding skin cancer) among adults aged >=18 years\n",
      "Current asthma among adults aged >=18 years\n",
      "Cervical cancer screening among adult women aged 21-65 years\n"
     ]
    }
   ],
   "source": [
    "for i in new_list_of_measures:\n",
    "    print(i)"
   ]
  },
  {
   "cell_type": "code",
   "execution_count": 95,
   "metadata": {},
   "outputs": [],
   "source": [
    "list_of_lists = [[index, string] for index, string in enumerate(new_list_of_measures)]"
   ]
  },
  {
   "cell_type": "markdown",
   "metadata": {},
   "source": [
    "Not sure if it will work. But I need to use index 0 for the actual value and index 1 for the entry that I am sorting by. it works and automates what I am trying to do. So that is very nice. "
   ]
  },
  {
   "cell_type": "code",
   "execution_count": 106,
   "metadata": {},
   "outputs": [],
   "source": [
    "for i,j in list_of_lists:\n",
    "\texec(f\"AL_{i}=groupedAL.get_group('{j}')\")"
   ]
  },
  {
   "cell_type": "markdown",
   "metadata": {},
   "source": [
    "Tomorrow I continue to automate"
   ]
  },
  {
   "cell_type": "code",
   "execution_count": null,
   "metadata": {},
   "outputs": [],
   "source": []
  }
 ],
 "metadata": {
  "kernelspec": {
   "display_name": "Python 3",
   "language": "python",
   "name": "python3"
  },
  "language_info": {
   "codemirror_mode": {
    "name": "ipython",
    "version": 3
   },
   "file_extension": ".py",
   "mimetype": "text/x-python",
   "name": "python",
   "nbconvert_exporter": "python",
   "pygments_lexer": "ipython3",
   "version": "3.11.4"
  }
 },
 "nbformat": 4,
 "nbformat_minor": 2
}
